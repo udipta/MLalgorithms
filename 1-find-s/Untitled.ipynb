{
 "cells": [
  {
   "cell_type": "code",
   "execution_count": 1,
   "metadata": {},
   "outputs": [],
   "source": [
    "import pandas as pd"
   ]
  },
  {
   "cell_type": "code",
   "execution_count": 2,
   "metadata": {},
   "outputs": [],
   "source": [
    "df = pd.read_csv('finds.csv')"
   ]
  },
  {
   "cell_type": "code",
   "execution_count": 12,
   "metadata": {},
   "outputs": [
    {
     "name": "stdout",
     "output_type": "stream",
     "text": [
      "     Sky AirTemp Humidity    Wind Water Forecast EnjoySport\n",
      "0  Sunny    Warm   Normal  Strong  Warm     Same        Yes\n",
      "1  Sunny    Warm     High  Strong  Warm     Same        Yes\n",
      "3  Sunny    Warm     High  Strong  Cool   Change        Yes\n",
      "\n",
      "     Sky AirTemp Humidity    Wind Water Forecast EnjoySport\n",
      "2  Rainy    Cold     High  Strong  Warm   Change         No\n",
      "\n",
      "     Sky AirTemp Humidity    Wind Water Forecast\n",
      "0  Sunny    Warm   Normal  Strong  Warm     Same\n",
      "1  Sunny    Warm     High  Strong  Warm     Same\n",
      "3  Sunny    Warm     High  Strong  Cool   Change\n",
      "\n",
      "     Sky AirTemp Humidity    Wind Water Forecast\n",
      "2  Rainy    Cold     High  Strong  Warm   Change\n",
      "\n",
      "Sky          Sunny\n",
      "AirTemp       Warm\n",
      "Humidity    Normal\n",
      "Wind        Strong\n",
      "Water         Warm\n",
      "Forecast      Same\n",
      "Name: 0, dtype: object\n"
     ]
    }
   ],
   "source": [
    "spe_df = df.loc[df['EnjoySport'].str.upper()=='YES']\n",
    "gene_df = df.loc[df['EnjoySport'].str.upper()=='NO']\n",
    "print(spe_df,gene_df, sep='\\n\\n',end='\\n\\n')\n",
    "\n",
    "spe_df = spe_df.iloc[:,:-1]\n",
    "gene_df = gene_df.iloc[:,:-1]\n",
    "base = spe_df.iloc[0]\n",
    "\n",
    "print(spe_df,gene_df,base, sep='\\n\\n')"
   ]
  },
  {
   "cell_type": "code",
   "execution_count": 5,
   "metadata": {},
   "outputs": [],
   "source": [
    "for x in range(1,len(spe_df)):\n",
    "    base = base.where(spe_df.iloc[x]==base,other='?')"
   ]
  },
  {
   "cell_type": "code",
   "execution_count": 6,
   "metadata": {},
   "outputs": [
    {
     "name": "stdout",
     "output_type": "stream",
     "text": [
      "Specific :- \n",
      " ['Sunny' 'Warm' '?' 'Strong' '?' '?']\n"
     ]
    }
   ],
   "source": [
    "print('Specific :- \\n',base.values)"
   ]
  },
  {
   "cell_type": "code",
   "execution_count": null,
   "metadata": {},
   "outputs": [],
   "source": []
  }
 ],
 "metadata": {
  "kernelspec": {
   "display_name": "Python 3",
   "language": "python",
   "name": "python3"
  },
  "language_info": {
   "codemirror_mode": {
    "name": "ipython",
    "version": 3
   },
   "file_extension": ".py",
   "mimetype": "text/x-python",
   "name": "python",
   "nbconvert_exporter": "python",
   "pygments_lexer": "ipython3",
   "version": "3.6.7"
  }
 },
 "nbformat": 4,
 "nbformat_minor": 2
}
